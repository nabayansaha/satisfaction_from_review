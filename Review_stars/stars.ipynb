{
 "cells": [
  {
   "cell_type": "code",
   "execution_count": 16,
   "id": "1802cc0f",
   "metadata": {},
   "outputs": [],
   "source": [
    "import numpy as np\n",
    "import pandas as pd\n",
    "import matplotlib.pyplot as plt\n",
    "import seaborn as sns\n",
    "%matplotlib inline"
   ]
  },
  {
   "cell_type": "code",
   "execution_count": 17,
   "id": "b2c4f474",
   "metadata": {},
   "outputs": [],
   "source": [
    "import tensorflow"
   ]
  },
  {
   "cell_type": "markdown",
   "id": "4c940b5e",
   "metadata": {},
   "source": [
    "Adding Natural language toolkit"
   ]
  },
  {
   "cell_type": "code",
   "execution_count": 18,
   "id": "f9a04117",
   "metadata": {},
   "outputs": [],
   "source": [
    "import nltk\n",
    "from nltk.corpus import stopwords\n",
    "from nltk.stem import PorterStemmer\n",
    "import re"
   ]
  },
  {
   "cell_type": "markdown",
   "id": "11238039",
   "metadata": {},
   "source": [
    "Using a dataset from kaggle"
   ]
  },
  {
   "cell_type": "code",
   "execution_count": 19,
   "id": "d086af49",
   "metadata": {},
   "outputs": [],
   "source": [
    "df = pd.read_csv('yelp.csv')"
   ]
  },
  {
   "cell_type": "code",
   "execution_count": 20,
   "id": "0e5fc4f1",
   "metadata": {},
   "outputs": [
    {
     "data": {
      "text/plain": [
       "Index(['business_id', 'date', 'review_id', 'stars', 'text', 'type', 'user_id',\n",
       "       'cool', 'useful', 'funny'],\n",
       "      dtype='object')"
      ]
     },
     "execution_count": 20,
     "metadata": {},
     "output_type": "execute_result"
    }
   ],
   "source": [
    "df.columns"
   ]
  },
  {
   "cell_type": "markdown",
   "id": "af68587b",
   "metadata": {},
   "source": [
    "# Assumptions #"
   ]
  },
  {
   "cell_type": "markdown",
   "id": "35b801b3",
   "metadata": {},
   "source": [
    "for this we can assume that number of stars strictly depends upon the key words of joy as sadness "
   ]
  },
  {
   "cell_type": "code",
   "execution_count": 21,
   "id": "df0cd90a",
   "metadata": {},
   "outputs": [],
   "source": [
    "df.drop('business_id',axis=1,inplace=True)"
   ]
  },
  {
   "cell_type": "code",
   "execution_count": 22,
   "id": "8e823cd0",
   "metadata": {},
   "outputs": [],
   "source": [
    "df.drop('review_id',axis=1,inplace = True)"
   ]
  },
  {
   "cell_type": "code",
   "execution_count": 23,
   "id": "bea5d84d",
   "metadata": {},
   "outputs": [],
   "source": [
    "df.drop('type',axis=1,inplace=True)"
   ]
  },
  {
   "cell_type": "code",
   "execution_count": 24,
   "id": "ff7040a8",
   "metadata": {},
   "outputs": [],
   "source": [
    "df.drop('user_id',axis=1,inplace=True)"
   ]
  },
  {
   "cell_type": "code",
   "execution_count": 25,
   "id": "c3d782b3",
   "metadata": {},
   "outputs": [
    {
     "data": {
      "text/html": [
       "<div>\n",
       "<style scoped>\n",
       "    .dataframe tbody tr th:only-of-type {\n",
       "        vertical-align: middle;\n",
       "    }\n",
       "\n",
       "    .dataframe tbody tr th {\n",
       "        vertical-align: top;\n",
       "    }\n",
       "\n",
       "    .dataframe thead th {\n",
       "        text-align: right;\n",
       "    }\n",
       "</style>\n",
       "<table border=\"1\" class=\"dataframe\">\n",
       "  <thead>\n",
       "    <tr style=\"text-align: right;\">\n",
       "      <th></th>\n",
       "      <th>date</th>\n",
       "      <th>stars</th>\n",
       "      <th>text</th>\n",
       "      <th>cool</th>\n",
       "      <th>useful</th>\n",
       "      <th>funny</th>\n",
       "    </tr>\n",
       "  </thead>\n",
       "  <tbody>\n",
       "    <tr>\n",
       "      <th>0</th>\n",
       "      <td>2011-01-26</td>\n",
       "      <td>5</td>\n",
       "      <td>My wife took me here on my birthday for breakf...</td>\n",
       "      <td>2</td>\n",
       "      <td>5</td>\n",
       "      <td>0</td>\n",
       "    </tr>\n",
       "    <tr>\n",
       "      <th>1</th>\n",
       "      <td>2011-07-27</td>\n",
       "      <td>5</td>\n",
       "      <td>I have no idea why some people give bad review...</td>\n",
       "      <td>0</td>\n",
       "      <td>0</td>\n",
       "      <td>0</td>\n",
       "    </tr>\n",
       "    <tr>\n",
       "      <th>2</th>\n",
       "      <td>2012-06-14</td>\n",
       "      <td>4</td>\n",
       "      <td>love the gyro plate. Rice is so good and I als...</td>\n",
       "      <td>0</td>\n",
       "      <td>1</td>\n",
       "      <td>0</td>\n",
       "    </tr>\n",
       "    <tr>\n",
       "      <th>3</th>\n",
       "      <td>2010-05-27</td>\n",
       "      <td>5</td>\n",
       "      <td>Rosie, Dakota, and I LOVE Chaparral Dog Park!!...</td>\n",
       "      <td>1</td>\n",
       "      <td>2</td>\n",
       "      <td>0</td>\n",
       "    </tr>\n",
       "    <tr>\n",
       "      <th>4</th>\n",
       "      <td>2012-01-05</td>\n",
       "      <td>5</td>\n",
       "      <td>General Manager Scott Petello is a good egg!!!...</td>\n",
       "      <td>0</td>\n",
       "      <td>0</td>\n",
       "      <td>0</td>\n",
       "    </tr>\n",
       "    <tr>\n",
       "      <th>...</th>\n",
       "      <td>...</td>\n",
       "      <td>...</td>\n",
       "      <td>...</td>\n",
       "      <td>...</td>\n",
       "      <td>...</td>\n",
       "      <td>...</td>\n",
       "    </tr>\n",
       "    <tr>\n",
       "      <th>9995</th>\n",
       "      <td>2012-07-28</td>\n",
       "      <td>3</td>\n",
       "      <td>First visit...Had lunch here today - used my G...</td>\n",
       "      <td>1</td>\n",
       "      <td>2</td>\n",
       "      <td>0</td>\n",
       "    </tr>\n",
       "    <tr>\n",
       "      <th>9996</th>\n",
       "      <td>2012-01-18</td>\n",
       "      <td>4</td>\n",
       "      <td>Should be called house of deliciousness!\\n\\nI ...</td>\n",
       "      <td>0</td>\n",
       "      <td>0</td>\n",
       "      <td>0</td>\n",
       "    </tr>\n",
       "    <tr>\n",
       "      <th>9997</th>\n",
       "      <td>2010-11-16</td>\n",
       "      <td>4</td>\n",
       "      <td>I recently visited Olive and Ivy for business ...</td>\n",
       "      <td>0</td>\n",
       "      <td>0</td>\n",
       "      <td>0</td>\n",
       "    </tr>\n",
       "    <tr>\n",
       "      <th>9998</th>\n",
       "      <td>2012-12-02</td>\n",
       "      <td>2</td>\n",
       "      <td>My nephew just moved to Scottsdale recently so...</td>\n",
       "      <td>0</td>\n",
       "      <td>0</td>\n",
       "      <td>0</td>\n",
       "    </tr>\n",
       "    <tr>\n",
       "      <th>9999</th>\n",
       "      <td>2010-10-16</td>\n",
       "      <td>5</td>\n",
       "      <td>4-5 locations.. all 4.5 star average.. I think...</td>\n",
       "      <td>0</td>\n",
       "      <td>0</td>\n",
       "      <td>0</td>\n",
       "    </tr>\n",
       "  </tbody>\n",
       "</table>\n",
       "<p>10000 rows × 6 columns</p>\n",
       "</div>"
      ],
      "text/plain": [
       "            date  stars                                               text  \\\n",
       "0     2011-01-26      5  My wife took me here on my birthday for breakf...   \n",
       "1     2011-07-27      5  I have no idea why some people give bad review...   \n",
       "2     2012-06-14      4  love the gyro plate. Rice is so good and I als...   \n",
       "3     2010-05-27      5  Rosie, Dakota, and I LOVE Chaparral Dog Park!!...   \n",
       "4     2012-01-05      5  General Manager Scott Petello is a good egg!!!...   \n",
       "...          ...    ...                                                ...   \n",
       "9995  2012-07-28      3  First visit...Had lunch here today - used my G...   \n",
       "9996  2012-01-18      4  Should be called house of deliciousness!\\n\\nI ...   \n",
       "9997  2010-11-16      4  I recently visited Olive and Ivy for business ...   \n",
       "9998  2012-12-02      2  My nephew just moved to Scottsdale recently so...   \n",
       "9999  2010-10-16      5  4-5 locations.. all 4.5 star average.. I think...   \n",
       "\n",
       "      cool  useful  funny  \n",
       "0        2       5      0  \n",
       "1        0       0      0  \n",
       "2        0       1      0  \n",
       "3        1       2      0  \n",
       "4        0       0      0  \n",
       "...    ...     ...    ...  \n",
       "9995     1       2      0  \n",
       "9996     0       0      0  \n",
       "9997     0       0      0  \n",
       "9998     0       0      0  \n",
       "9999     0       0      0  \n",
       "\n",
       "[10000 rows x 6 columns]"
      ]
     },
     "execution_count": 25,
     "metadata": {},
     "output_type": "execute_result"
    }
   ],
   "source": [
    "df"
   ]
  },
  {
   "cell_type": "code",
   "execution_count": 26,
   "id": "2e68f1af",
   "metadata": {},
   "outputs": [],
   "source": [
    "df2 = df.drop(['cool','date','useful','funny'],axis=1)"
   ]
  },
  {
   "cell_type": "code",
   "execution_count": 27,
   "id": "99a1d79b",
   "metadata": {},
   "outputs": [
    {
     "data": {
      "text/plain": [
       "array([5, 4, 2, 3, 1], dtype=int64)"
      ]
     },
     "execution_count": 27,
     "metadata": {},
     "output_type": "execute_result"
    }
   ],
   "source": [
    "df2['stars'].unique()"
   ]
  },
  {
   "cell_type": "code",
   "execution_count": 28,
   "id": "f882d99d",
   "metadata": {},
   "outputs": [
    {
     "data": {
      "text/html": [
       "<div>\n",
       "<style scoped>\n",
       "    .dataframe tbody tr th:only-of-type {\n",
       "        vertical-align: middle;\n",
       "    }\n",
       "\n",
       "    .dataframe tbody tr th {\n",
       "        vertical-align: top;\n",
       "    }\n",
       "\n",
       "    .dataframe thead th {\n",
       "        text-align: right;\n",
       "    }\n",
       "</style>\n",
       "<table border=\"1\" class=\"dataframe\">\n",
       "  <thead>\n",
       "    <tr style=\"text-align: right;\">\n",
       "      <th></th>\n",
       "      <th>stars</th>\n",
       "      <th>text</th>\n",
       "    </tr>\n",
       "  </thead>\n",
       "  <tbody>\n",
       "    <tr>\n",
       "      <th>0</th>\n",
       "      <td>5</td>\n",
       "      <td>My wife took me here on my birthday for breakf...</td>\n",
       "    </tr>\n",
       "    <tr>\n",
       "      <th>1</th>\n",
       "      <td>5</td>\n",
       "      <td>I have no idea why some people give bad review...</td>\n",
       "    </tr>\n",
       "    <tr>\n",
       "      <th>2</th>\n",
       "      <td>4</td>\n",
       "      <td>love the gyro plate. Rice is so good and I als...</td>\n",
       "    </tr>\n",
       "    <tr>\n",
       "      <th>3</th>\n",
       "      <td>5</td>\n",
       "      <td>Rosie, Dakota, and I LOVE Chaparral Dog Park!!...</td>\n",
       "    </tr>\n",
       "    <tr>\n",
       "      <th>4</th>\n",
       "      <td>5</td>\n",
       "      <td>General Manager Scott Petello is a good egg!!!...</td>\n",
       "    </tr>\n",
       "    <tr>\n",
       "      <th>...</th>\n",
       "      <td>...</td>\n",
       "      <td>...</td>\n",
       "    </tr>\n",
       "    <tr>\n",
       "      <th>9995</th>\n",
       "      <td>3</td>\n",
       "      <td>First visit...Had lunch here today - used my G...</td>\n",
       "    </tr>\n",
       "    <tr>\n",
       "      <th>9996</th>\n",
       "      <td>4</td>\n",
       "      <td>Should be called house of deliciousness!\\n\\nI ...</td>\n",
       "    </tr>\n",
       "    <tr>\n",
       "      <th>9997</th>\n",
       "      <td>4</td>\n",
       "      <td>I recently visited Olive and Ivy for business ...</td>\n",
       "    </tr>\n",
       "    <tr>\n",
       "      <th>9998</th>\n",
       "      <td>2</td>\n",
       "      <td>My nephew just moved to Scottsdale recently so...</td>\n",
       "    </tr>\n",
       "    <tr>\n",
       "      <th>9999</th>\n",
       "      <td>5</td>\n",
       "      <td>4-5 locations.. all 4.5 star average.. I think...</td>\n",
       "    </tr>\n",
       "  </tbody>\n",
       "</table>\n",
       "<p>10000 rows × 2 columns</p>\n",
       "</div>"
      ],
      "text/plain": [
       "      stars                                               text\n",
       "0         5  My wife took me here on my birthday for breakf...\n",
       "1         5  I have no idea why some people give bad review...\n",
       "2         4  love the gyro plate. Rice is so good and I als...\n",
       "3         5  Rosie, Dakota, and I LOVE Chaparral Dog Park!!...\n",
       "4         5  General Manager Scott Petello is a good egg!!!...\n",
       "...     ...                                                ...\n",
       "9995      3  First visit...Had lunch here today - used my G...\n",
       "9996      4  Should be called house of deliciousness!\\n\\nI ...\n",
       "9997      4  I recently visited Olive and Ivy for business ...\n",
       "9998      2  My nephew just moved to Scottsdale recently so...\n",
       "9999      5  4-5 locations.. all 4.5 star average.. I think...\n",
       "\n",
       "[10000 rows x 2 columns]"
      ]
     },
     "execution_count": 28,
     "metadata": {},
     "output_type": "execute_result"
    }
   ],
   "source": [
    "df2"
   ]
  },
  {
   "cell_type": "code",
   "execution_count": 29,
   "id": "9953cc78",
   "metadata": {},
   "outputs": [],
   "source": [
    "for i in range(len(df2['stars'])):\n",
    "    if(df2['stars'][i] == np.nan):\n",
    "        print('Lauda')"
   ]
  },
  {
   "cell_type": "code",
   "execution_count": 30,
   "id": "6f05c65d",
   "metadata": {},
   "outputs": [],
   "source": [
    "ps = PorterStemmer()\n",
    "corpus=[]"
   ]
  },
  {
   "cell_type": "markdown",
   "id": "07db298f",
   "metadata": {},
   "source": [
    "There is no missing value for the target column"
   ]
  },
  {
   "cell_type": "code",
   "execution_count": 15,
   "id": "e86fb913",
   "metadata": {
    "scrolled": true
   },
   "outputs": [
    {
     "name": "stdout",
     "output_type": "stream",
     "text": [
      "9999\n"
     ]
    }
   ],
   "source": [
    "ps = PorterStemmer()\n",
    "corpus=[]\n",
    "\n",
    "for i in range(len(df2['text'])):\n",
    "    \n",
    "    rev = re.sub(\"^[a-zA-Z]\",' ', df2['text'][i]) \n",
    "    rev = rev.lower()\n",
    "    rev = rev.split()\n",
    "    rev = [ps.stem(word) for word in rev if set(stopwords.words())]\n",
    "    rev = ' '.join(rev)\n",
    "    corpus.append(rev)\n",
    "    \n",
    "    print(i,end='\\r')\n",
    "print()"
   ]
  },
  {
   "cell_type": "code",
   "execution_count": 32,
   "id": "c5718419",
   "metadata": {},
   "outputs": [],
   "source": [
    "from sklearn.feature_extraction.text import CountVectorizer\n",
    "cv = CountVectorizer(max_features=10000)\n"
   ]
  },
  {
   "cell_type": "code",
   "execution_count": 34,
   "id": "d76db43e",
   "metadata": {},
   "outputs": [],
   "source": [
    "y = df2['stars']"
   ]
  },
  {
   "cell_type": "code",
   "execution_count": 35,
   "id": "0aded664",
   "metadata": {},
   "outputs": [
    {
     "ename": "NameError",
     "evalue": "name 'X' is not defined",
     "output_type": "error",
     "traceback": [
      "\u001b[1;31m---------------------------------------------------------------------------\u001b[0m",
      "\u001b[1;31mNameError\u001b[0m                                 Traceback (most recent call last)",
      "Cell \u001b[1;32mIn[35], line 2\u001b[0m\n\u001b[0;32m      1\u001b[0m \u001b[38;5;28;01mfrom\u001b[39;00m \u001b[38;5;21;01msklearn\u001b[39;00m\u001b[38;5;21;01m.\u001b[39;00m\u001b[38;5;21;01mmodel_selection\u001b[39;00m \u001b[38;5;28;01mimport\u001b[39;00m train_test_split\n\u001b[1;32m----> 2\u001b[0m X_train, X_test, y_train, y_test \u001b[38;5;241m=\u001b[39m train_test_split(\u001b[43mX\u001b[49m, y, test_size \u001b[38;5;241m=\u001b[39m \u001b[38;5;241m0.2\u001b[39m, random_state \u001b[38;5;241m=\u001b[39m \u001b[38;5;241m0\u001b[39m)\n",
      "\u001b[1;31mNameError\u001b[0m: name 'X' is not defined"
     ]
    }
   ],
   "source": [
    "from sklearn.model_selection import train_test_split\n",
    "X_train, X_test, y_train, y_test = train_test_split(X, y, test_size = 0.2, random_state = 0)"
   ]
  },
  {
   "cell_type": "code",
   "execution_count": 20,
   "id": "f5050f22",
   "metadata": {},
   "outputs": [],
   "source": [
    "from sklearn.datasets import fetch_20newsgroups\n",
    "from sklearn.feature_extraction.text import CountVectorizer, TfidfTransformer\n",
    "from sklearn.model_selection import train_test_split\n",
    "from sklearn.naive_bayes import MultinomialNB\n",
    "from sklearn.pipeline import Pipeline\n",
    "from skopt import BayesSearchCV\n",
    "from skopt.space import Real, Categorical, Integer"
   ]
  },
  {
   "cell_type": "code",
   "execution_count": 21,
   "id": "f569fcb8",
   "metadata": {},
   "outputs": [],
   "source": [
    "\n",
    "text_clf = Pipeline([\n",
    "    ('vect', CountVectorizer()),\n",
    "    ('tfidf', TfidfTransformer()),\n",
    "    ('clf', MultinomialNB()),\n",
    "])\n"
   ]
  },
  {
   "cell_type": "code",
   "execution_count": 22,
   "id": "8d55ab4a",
   "metadata": {},
   "outputs": [],
   "source": [
    "search_spaces = {\n",
    "    'vect__ngram_range': Categorical([(1, 1), (1, 2)]),  # Unigrams or bigrams\n",
    "    'tfidf__use_idf': Categorical([True, False]),\n",
    "    'clf__alpha': Real(0.1, 1.0, prior='log-uniform'),  # Smoothing parameter\n",
    "}\n"
   ]
  },
  {
   "cell_type": "code",
   "execution_count": 24,
   "id": "e2e8a920",
   "metadata": {},
   "outputs": [
    {
     "data": {
      "text/plain": [
       "array([[0, 0, 0, ..., 0, 0, 0],\n",
       "       [0, 0, 0, ..., 0, 0, 0],\n",
       "       [0, 0, 0, ..., 0, 0, 0],\n",
       "       ...,\n",
       "       [0, 0, 0, ..., 0, 0, 0],\n",
       "       [0, 0, 0, ..., 0, 0, 0],\n",
       "       [0, 0, 0, ..., 0, 0, 0]], dtype=int64)"
      ]
     },
     "execution_count": 24,
     "metadata": {},
     "output_type": "execute_result"
    }
   ],
   "source": [
    "X_train"
   ]
  },
  {
   "cell_type": "code",
   "execution_count": 25,
   "id": "ba73135c",
   "metadata": {},
   "outputs": [
    {
     "data": {
      "text/plain": [
       "7389    5\n",
       "9275    4\n",
       "2995    1\n",
       "5316    5\n",
       "356     4\n",
       "       ..\n",
       "9225    3\n",
       "4859    5\n",
       "3264    4\n",
       "9845    3\n",
       "2732    5\n",
       "Name: stars, Length: 8000, dtype: int64"
      ]
     },
     "execution_count": 25,
     "metadata": {},
     "output_type": "execute_result"
    }
   ],
   "source": [
    "y_train"
   ]
  },
  {
   "cell_type": "code",
   "execution_count": 26,
   "id": "746b2631",
   "metadata": {},
   "outputs": [],
   "source": [
    "model = MultinomialNB()"
   ]
  },
  {
   "cell_type": "code",
   "execution_count": 27,
   "id": "feb84982",
   "metadata": {},
   "outputs": [
    {
     "data": {
      "text/html": [
       "<style>#sk-container-id-1 {color: black;background-color: white;}#sk-container-id-1 pre{padding: 0;}#sk-container-id-1 div.sk-toggleable {background-color: white;}#sk-container-id-1 label.sk-toggleable__label {cursor: pointer;display: block;width: 100%;margin-bottom: 0;padding: 0.3em;box-sizing: border-box;text-align: center;}#sk-container-id-1 label.sk-toggleable__label-arrow:before {content: \"▸\";float: left;margin-right: 0.25em;color: #696969;}#sk-container-id-1 label.sk-toggleable__label-arrow:hover:before {color: black;}#sk-container-id-1 div.sk-estimator:hover label.sk-toggleable__label-arrow:before {color: black;}#sk-container-id-1 div.sk-toggleable__content {max-height: 0;max-width: 0;overflow: hidden;text-align: left;background-color: #f0f8ff;}#sk-container-id-1 div.sk-toggleable__content pre {margin: 0.2em;color: black;border-radius: 0.25em;background-color: #f0f8ff;}#sk-container-id-1 input.sk-toggleable__control:checked~div.sk-toggleable__content {max-height: 200px;max-width: 100%;overflow: auto;}#sk-container-id-1 input.sk-toggleable__control:checked~label.sk-toggleable__label-arrow:before {content: \"▾\";}#sk-container-id-1 div.sk-estimator input.sk-toggleable__control:checked~label.sk-toggleable__label {background-color: #d4ebff;}#sk-container-id-1 div.sk-label input.sk-toggleable__control:checked~label.sk-toggleable__label {background-color: #d4ebff;}#sk-container-id-1 input.sk-hidden--visually {border: 0;clip: rect(1px 1px 1px 1px);clip: rect(1px, 1px, 1px, 1px);height: 1px;margin: -1px;overflow: hidden;padding: 0;position: absolute;width: 1px;}#sk-container-id-1 div.sk-estimator {font-family: monospace;background-color: #f0f8ff;border: 1px dotted black;border-radius: 0.25em;box-sizing: border-box;margin-bottom: 0.5em;}#sk-container-id-1 div.sk-estimator:hover {background-color: #d4ebff;}#sk-container-id-1 div.sk-parallel-item::after {content: \"\";width: 100%;border-bottom: 1px solid gray;flex-grow: 1;}#sk-container-id-1 div.sk-label:hover label.sk-toggleable__label {background-color: #d4ebff;}#sk-container-id-1 div.sk-serial::before {content: \"\";position: absolute;border-left: 1px solid gray;box-sizing: border-box;top: 0;bottom: 0;left: 50%;z-index: 0;}#sk-container-id-1 div.sk-serial {display: flex;flex-direction: column;align-items: center;background-color: white;padding-right: 0.2em;padding-left: 0.2em;position: relative;}#sk-container-id-1 div.sk-item {position: relative;z-index: 1;}#sk-container-id-1 div.sk-parallel {display: flex;align-items: stretch;justify-content: center;background-color: white;position: relative;}#sk-container-id-1 div.sk-item::before, #sk-container-id-1 div.sk-parallel-item::before {content: \"\";position: absolute;border-left: 1px solid gray;box-sizing: border-box;top: 0;bottom: 0;left: 50%;z-index: -1;}#sk-container-id-1 div.sk-parallel-item {display: flex;flex-direction: column;z-index: 1;position: relative;background-color: white;}#sk-container-id-1 div.sk-parallel-item:first-child::after {align-self: flex-end;width: 50%;}#sk-container-id-1 div.sk-parallel-item:last-child::after {align-self: flex-start;width: 50%;}#sk-container-id-1 div.sk-parallel-item:only-child::after {width: 0;}#sk-container-id-1 div.sk-dashed-wrapped {border: 1px dashed gray;margin: 0 0.4em 0.5em 0.4em;box-sizing: border-box;padding-bottom: 0.4em;background-color: white;}#sk-container-id-1 div.sk-label label {font-family: monospace;font-weight: bold;display: inline-block;line-height: 1.2em;}#sk-container-id-1 div.sk-label-container {text-align: center;}#sk-container-id-1 div.sk-container {/* jupyter's `normalize.less` sets `[hidden] { display: none; }` but bootstrap.min.css set `[hidden] { display: none !important; }` so we also need the `!important` here to be able to override the default hidden behavior on the sphinx rendered scikit-learn.org. See: https://github.com/scikit-learn/scikit-learn/issues/21755 */display: inline-block !important;position: relative;}#sk-container-id-1 div.sk-text-repr-fallback {display: none;}</style><div id=\"sk-container-id-1\" class=\"sk-top-container\"><div class=\"sk-text-repr-fallback\"><pre>MultinomialNB()</pre><b>In a Jupyter environment, please rerun this cell to show the HTML representation or trust the notebook. <br />On GitHub, the HTML representation is unable to render, please try loading this page with nbviewer.org.</b></div><div class=\"sk-container\" hidden><div class=\"sk-item\"><div class=\"sk-estimator sk-toggleable\"><input class=\"sk-toggleable__control sk-hidden--visually\" id=\"sk-estimator-id-1\" type=\"checkbox\" checked><label for=\"sk-estimator-id-1\" class=\"sk-toggleable__label sk-toggleable__label-arrow\">MultinomialNB</label><div class=\"sk-toggleable__content\"><pre>MultinomialNB()</pre></div></div></div></div></div>"
      ],
      "text/plain": [
       "MultinomialNB()"
      ]
     },
     "execution_count": 27,
     "metadata": {},
     "output_type": "execute_result"
    }
   ],
   "source": [
    "model.fit(X_train,y_train)"
   ]
  },
  {
   "cell_type": "code",
   "execution_count": 28,
   "id": "8968fb90",
   "metadata": {},
   "outputs": [],
   "source": [
    "pred  = model.predict(X_test)"
   ]
  },
  {
   "cell_type": "code",
   "execution_count": 29,
   "id": "cffe8858",
   "metadata": {},
   "outputs": [],
   "source": [
    "from sklearn.metrics import accuracy_score"
   ]
  },
  {
   "cell_type": "code",
   "execution_count": 30,
   "id": "72fa594b",
   "metadata": {},
   "outputs": [
    {
     "data": {
      "text/plain": [
       "0.509"
      ]
     },
     "execution_count": 30,
     "metadata": {},
     "output_type": "execute_result"
    }
   ],
   "source": [
    "accuracy_score(y_test,pred)"
   ]
  },
  {
   "cell_type": "code",
   "execution_count": null,
   "id": "a4bf0e03",
   "metadata": {},
   "outputs": [],
   "source": []
  },
  {
   "cell_type": "markdown",
   "id": "29d4b99d",
   "metadata": {},
   "source": [
    "using Basysian optimization for hyperparameters"
   ]
  },
  {
   "cell_type": "code",
   "execution_count": null,
   "id": "1f926e26",
   "metadata": {},
   "outputs": [],
   "source": [
    "bayes_search = BayesSearchCV(\n",
    "    estimator=text_clf,\n",
    "    search_spaces=search_spaces,\n",
    "    n_iter=10,\n",
    "    cv=5,\n",
    "    n_jobs=-1,\n",
    "    random_state=42,\n",
    "    scoring='accuracy'\n",
    ")\n",
    "bayes_search.fit(X_train, y_train)"
   ]
  },
  {
   "cell_type": "code",
   "execution_count": null,
   "id": "06c09fb6",
   "metadata": {},
   "outputs": [],
   "source": []
  },
  {
   "cell_type": "code",
   "execution_count": null,
   "id": "f032e5e3",
   "metadata": {},
   "outputs": [],
   "source": [
    "print(\"Best parameters:\", bayes_search.best_params_)"
   ]
  },
  {
   "cell_type": "code",
   "execution_count": null,
   "id": "0bad8a71",
   "metadata": {},
   "outputs": [],
   "source": [
    "predicted = bayes_search.best_estimator_.predict(X_test)\n",
    "accuracy = np.mean(predicted == y_test)\n",
    "print(\"Accuracy:\", accuracy)"
   ]
  },
  {
   "cell_type": "code",
   "execution_count": 14,
   "id": "421cff31",
   "metadata": {},
   "outputs": [],
   "source": [
    "def test_model(text):\n",
    "    stars = {\n",
    "    '1 stars' : 1,\n",
    "    '2 stars' : 2,\n",
    "    '3 stars' : 3,\n",
    "    '4 stars' : 4,\n",
    "    '5 stars' : 5,\n",
    "    }\n",
    "    ps = PorterStemmer()\n",
    "    corpus=[]\n",
    "    rev = re.sub('^[a-zA-Z]',' ',text)\n",
    "    rev = rev.lower()\n",
    "    rev = rev.split()\n",
    "    rev = [ps.stem(word) for word in rev if word not in set(stopwords.words())]\n",
    "    rev = ' '.join(rev)\n",
    "    \n",
    "    rev = cv.transform([rev]).toarray()\n",
    "    \n",
    "    output = model.predict(rev)[0]\n",
    "    \n",
    "    keys = list(stars)\n",
    "    values = list(stars.values())\n",
    "    position = values.index(output)\n",
    "    \n",
    "    output = keys[position]\n",
    "    \n",
    "    print(output)"
   ]
  },
  {
   "cell_type": "code",
   "execution_count": 5,
   "id": "1fd0b495",
   "metadata": {},
   "outputs": [],
   "source": [
    "import joblib\n"
   ]
  },
  {
   "cell_type": "code",
   "execution_count": 10,
   "id": "7298cd86",
   "metadata": {},
   "outputs": [],
   "source": [
    "model = joblib.load('stars.sav')"
   ]
  },
  {
   "cell_type": "code",
   "execution_count": null,
   "id": "efcc255c",
   "metadata": {},
   "outputs": [],
   "source": []
  },
  {
   "cell_type": "code",
   "execution_count": 36,
   "id": "a0368e1b",
   "metadata": {},
   "outputs": [],
   "source": [
    "#test_model('There is a waitlist but it goes quite fast. They expanded the restaurant and it was quite nosy in there.. food is still good an other than the peppers they need another vege app option. The ramen is good and they can hard boil Those eggs for you! Servers were nice Everything came fast Felt rushed to leave because of people Waiting')"
   ]
  },
  {
   "cell_type": "code",
   "execution_count": 33,
   "id": "de845b0c",
   "metadata": {},
   "outputs": [
    {
     "name": "stdout",
     "output_type": "stream",
     "text": [
      "4 stars\n"
     ]
    }
   ],
   "source": [
    "test_model('Waterbar is a perfect place for work lunches, dinners, and other celebratory meals, and that is exactly what we did. My team and I went here for lunch, and we had such a great time. Their food was incredibly delicious! I ordered the vegetarian ravioli, and it was very tasty. I believe the filling was some sort of squash(?), but whatever it was, it was very creamy. The creamy texture of the ravioli was a perfect pairing with the crunchy texture of the seeds. It was a great mix of crunch and silkiness in every bite, which made me want more. I also ordered the Petrale Sole, which was also a star on their menu. At first glance, it seemed underwhelming, but the flavor brought out its stardom. I am never a fan of carrots, but every bite of the carrot was dreamy. The fish itself was very well-seasoned and paired well with the vadouvan and Greek yogurt. On top of the delicious food, the customer service was fantastic! Before going here, we were reviewing the online menu and were each looking forward to specific dishes - mainly the rockfish and chips and baked oysters. However, the online menu is out of date, and the restaurant changes what they serve on a daily basis. The waitstaff and the chefs were able to accommodate our needs and decided to make the baked oysters and rockfish and chips that day. Ultimately, everyone was satisfied with their meals, and I am very glad that we visited this restaurant for our work celebratory lunch')"
   ]
  },
  {
   "cell_type": "code",
   "execution_count": 36,
   "id": "58420725",
   "metadata": {},
   "outputs": [
    {
     "name": "stdout",
     "output_type": "stream",
     "text": [
      "5 stars\n"
     ]
    }
   ],
   "source": [
    "test_model(\"I couldnt be more pleased after contacting Avi at The Klein Group. He was referred to me via my attorney, whose law firm has worked with him before. We had a need for some work regarding estate information gathering. He was quickly able to get to the bottom of our needs and assist us with solid results. Communications with him was always friendly, positive, respectful, and helpful. What more could we ask for? He's the private investigator I would turn to for future needs for sure, and Id recommend him to any friends or family for PI needs.\")"
   ]
  },
  {
   "cell_type": "code",
   "execution_count": 37,
   "id": "22a624f5",
   "metadata": {},
   "outputs": [
    {
     "name": "stdout",
     "output_type": "stream",
     "text": [
      "4 stars\n"
     ]
    }
   ],
   "source": [
    "test_model('This Teaspoon location is located in the downtown Berkeley area. While this is a busier area, I easily found parking right in front of the shop. Ordering is through their kiosk by the counter, so not much service - even though there were only a few customers inside at the time. This is a smaller shop compared to their other shops I had been to. I ordered my usual from here, which is their Creamy Jasmine. I originally wanted boba and grass jelly for my drink, but for some reason, they do not have grass jelly at this location. Anyway, my drink was decent - it was a bit on the unsweetened / watered down side though. It was not as cold, creamy, or sweet as their other locations, even at the same ice / sweetness levels and with the same cream choice.')"
   ]
  },
  {
   "cell_type": "code",
   "execution_count": 38,
   "id": "b060241f",
   "metadata": {},
   "outputs": [
    {
     "name": "stdout",
     "output_type": "stream",
     "text": [
      "4 stars\n"
     ]
    }
   ],
   "source": [
    "test_model('Was craving something sweet so decided to stop by. Butterfinger: 4.5/5 The frozen yogurt was super soft, almost kind of melty. I feel like it was more frozen solid in my previous visits but nonetheless, this one was still delicious! My absolute favorite is the peanut butter cup, give that a try!')"
   ]
  },
  {
   "cell_type": "code",
   "execution_count": 39,
   "id": "b330ab72",
   "metadata": {},
   "outputs": [
    {
     "name": "stdout",
     "output_type": "stream",
     "text": [
      "4 stars\n"
     ]
    }
   ],
   "source": [
    "test_model('Gadani is located in the Downtown Berkeley area - they have inconsistent hours, as I tried coming multiple times and the third time was the charm. Parking is kind of hit or miss here, as they are located in a busy area and on a busy street - I parked a couple of blocks away and walked over. This is a simple and small shop with very limited seating, but they do have a cute flower / leaf backdrop by the seating area, which is great for photos. No service whatsoever - ordering is through the kiosk by the front counter and the employee sitting by the counter does not speak to you / welcome you, nor does she even looks up from her phone. I ordered their Ice Cream Combo with your choice of egg waffle, ice cream flavor (1 flavor), and 2 complimentary toppings. For my egg waffle - I chose matcha, for my ice cream scoop - I chose matcha as well, and for my complimentary toppings - I chose condensed milk and whipped cream. Egg waffle was alright - a bit on the drier side with not much matcha taste to it, while the ice cream did not have a strong matcha taste at all. It was about $10, which I thought was a bit steep for what you get.')"
   ]
  },
  {
   "cell_type": "code",
   "execution_count": 40,
   "id": "2dceb2f5",
   "metadata": {},
   "outputs": [
    {
     "name": "stdout",
     "output_type": "stream",
     "text": [
      "4 stars\n"
     ]
    }
   ],
   "source": [
    "test_model(\"Very cute bakery with a minimalistic and clean aesthetic. I've had this place bookmarked for a while, and I can't remember if I've been here before or not. I do remember seeing long lines whenever I'm in Japan Town, which is usually on the weekends. Luckily, it wasn't busy when I came yesterday (Monday) afternoon. I got the Injeolmi Croissant and Garlic Chive Scone. The croissant had soy bean powder on top and Korean rice cake (tasted like mochi) inside. I thought the croissant was quite powdery. Because I didn't warm it up or eat it fresh, maybe it wasn't as good as it could've been or as good as I would've liked? Then again, I ate it almost immediately after I got home (about an hour or so later). On the other hand, I loved the scone. I just really love savory scones, especially when there's garlic and chive/spinach. The garlic chive flavor wasn't super strong. I wouldn't have minded if it were slightly stronger. Nonetheless, I would definitely get this again\")"
   ]
  },
  {
   "cell_type": "code",
   "execution_count": 41,
   "id": "fc5e2de9",
   "metadata": {},
   "outputs": [
    {
     "name": "stdout",
     "output_type": "stream",
     "text": [
      "4 stars\n"
     ]
    }
   ],
   "source": [
    "test_model(\"This place gets PACKED on weekends, so I had to come on a Wednesday at an off time. Even so, plenty of people were there. We sat outside but it was a bit chilly, so we were offered cozy blankets to keep us warm -- so kind! I got the Abruzzo Lasagna, but everything looked so good that I don't think you could go wrong. It wonderfully zesty and crispy, and the cheese stretch was beautiful. Even the starter salad was great -- loved the thicker slices of tomato. Everyone there was so friendly and made us feel right at home. Just a great cozy vibe from this place, absolutely have to come here again.\")"
   ]
  },
  {
   "cell_type": "code",
   "execution_count": null,
   "id": "ef7ef4ab",
   "metadata": {},
   "outputs": [],
   "source": [
    "#new_model = tf.keras.models.load_model('star_system')"
   ]
  }
 ],
 "metadata": {
  "kernelspec": {
   "display_name": "Python 3 (ipykernel)",
   "language": "python",
   "name": "python3"
  },
  "language_info": {
   "codemirror_mode": {
    "name": "ipython",
    "version": 3
   },
   "file_extension": ".py",
   "mimetype": "text/x-python",
   "name": "python",
   "nbconvert_exporter": "python",
   "pygments_lexer": "ipython3",
   "version": "3.10.9"
  }
 },
 "nbformat": 4,
 "nbformat_minor": 5
}
